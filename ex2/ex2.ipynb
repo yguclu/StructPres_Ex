{
 "cells": [
  {
   "cell_type": "markdown",
   "metadata": {},
   "source": [
    "# Construction of Reduction, Interpolation and Hodge operators on a periodic 1D grid of $[0,1]$\n",
    "\n",
    "Consider a periodic 1D interval $[0,1]$. The primal grid consists of the nodes of a uniform grid of $N$ cells and the dual grid consists of the midpoints of the cells.\n",
    "We aim at constructing interpolation operators for point values and cell integrals on the primal and dual grids, with the help of centred Lagrange interpolation. \n",
    "\n",
    "This exercise can be done with the class *lagrange*  from *scipy.interpolate*, in particular the *deriv* and *integ* methods.\n",
    "\n",
    "In all cases we test our schemes by interpolating the function\n",
    "$\\psi: x \\mapsto \\sin{\\left(4\\pi x\\right)}$."
   ]
  },
  {
   "cell_type": "code",
   "execution_count": null,
   "metadata": {},
   "outputs": [],
   "source": [
    "%matplotlib inline\n",
    "\n",
    "import numpy as np\n",
    "import matplotlib.pyplot as plt\n",
    "from scipy.integrate import quad\n",
    "from scipy.linalg    import circulant\n",
    "\n",
    "from ex2_common import staggered_grid, print_error_analysis\n",
    "from lagrange_interpolation import Basis_V0, Interpolator_from_C0_to_V0, Interpolant_V0\n",
    "from lagrange_interpolation import Basis_V1, Interpolator_from_C1_to_V1, Interpolant_V1"
   ]
  },
  {
   "cell_type": "code",
   "execution_count": null,
   "metadata": {},
   "outputs": [],
   "source": [
    "# Domain (periodic)\n",
    "xmin = 0.0\n",
    "xmax = 1.0\n",
    "\n",
    "# Number of (uniform) cells in domain\n",
    "N = 10\n",
    "\n",
    "# Cell size, primal grid, and dual grid\n",
    "dx, xp, xd = staggered_grid(xmin, xmax, N)\n",
    "\n",
    "# Analytical function for tests\n",
    "f = lambda x: np.sin(4 * np.pi * x)\n",
    "\n",
    "# Very fine grid for plots\n",
    "x = np.linspace(xmin, xmax, 1000, endpoint=False)"
   ]
  },
  {
   "cell_type": "code",
   "execution_count": null,
   "metadata": {},
   "outputs": [],
   "source": [
    "fig, ax = plt.subplots(1, 1, figsize=(12, 6))\n",
    "ax.plot(xp, np.zeros_like(xp), 'k.', ms=10, label='Primal grid')\n",
    "ax.plot(x, f(x), label=r'$\\psi\\;\\; \\in \\Lambda_0$')\n",
    "ax.plot(xp, f(xp), 'ko', mfc='None', ms=8, mew=1.5, label=r'$\\psi^0 \\in C_0$')\n",
    "ax.legend(fontsize=14)\n",
    "\n",
    "for xpi in xp:\n",
    "    ax.plot([xpi, xpi], [0, f(xpi)], 'k--')\n",
    "\n",
    "ax.grid()\n",
    "ax.set_title(r'Reduction on primal grid, $\\mathcal{R}_0: \\Lambda_0 \\to C_0$')\n",
    "ax.set_xlabel('x', size=14)\n",
    "fig.canvas.draw()"
   ]
  },
  {
   "cell_type": "markdown",
   "metadata": {},
   "source": [
    "## Interpolation of point values on the primal grid ($I_0: C_{0} \\to V_{0}$)\n",
    "\n",
    "Our goal is to reconstruct a piecewise polynomial function $\\psi_h(x) \\in V_0$ on the primal grid, given the point values $\\psi^0 \\in C_0$. Thanks to the uniform grid and periodic boundary conditions, the interpolation operator $\\mathcal{I}_0$ is translation invariant and can be defined on a generic interval $[x_i, x_{i+1}]$.\n",
    "\n",
    "For simplicity we introduce the normalized coordinate $\\xi := \\frac{x - x_i}{\\Delta x}$ and focus on Lagrange interpolation of odd degree $d = 2p+1$, with $p\\in\\mathbb{N}$, on the $d+1$ grid points $\\xi_j \\in \\left\\{ -p, \\dots, p+1 \\right\\}$. The interpolating polynomial can be written in terms of the canonical basis as\n",
    "\n",
    "$$\n",
    "P^d_i(\\xi) := \\sum_{j=-p}^{p+1} \\psi^0_{i+j}~\\ell^d_j(\\xi)\n",
    "\\qquad\n",
    "\\text{with}\n",
    "\\qquad\n",
    "\\ell^d_j(\\xi) := \\prod_{\\substack{k=-p \\\\ k\\neq j}}^{p+1} \\frac{\\xi - k}{j - k}.\n",
    "$$\n",
    "\n",
    "We recall that the Lagrange basis functions satisfy the properties\n",
    "\n",
    "$$\n",
    "\\ell^d_j(\\xi_k) = \\delta_{jk},\n",
    "\\qquad\n",
    "\\text{and}\n",
    "\\quad\n",
    "\\sum_{j=-p}^{p+1} \\ell^d_j(\\xi) = 1\n",
    "\\quad\n",
    "\\forall \\xi.\n",
    "$$\n",
    "\n",
    "Finally, the interpolation operator is\n",
    "\n",
    "$$\n",
    "\\mathcal{I}_0: \\psi^0 \\mapsto \\psi_h,\n",
    "\\qquad\n",
    "\\text{with}\n",
    "\\quad\n",
    "\\psi_h: x \\mapsto P^d_i\\left(\\frac{x-x_i}{\\Delta x}\\right)\n",
    "\\qquad\n",
    "\\text{and}\n",
    "\\quad\n",
    "i = \\left\\lfloor {\\frac{x - x_0}{\\Delta x}} \\right\\rfloor.\n",
    "$$"
   ]
  },
  {
   "cell_type": "markdown",
   "metadata": {},
   "source": [
    "### Degree 1\n",
    "\n",
    "We use the points $\\xi_0 = 0$ and $\\xi_1 = 1$ to define the Lagrange basis functions\n",
    "\n",
    "\\begin{align}\n",
    "\\ell^1_0(\\xi) &= \\frac{\\xi - 1}{0 - 1} = 1 - \\xi \\\\\n",
    "\\ell^1_1(\\xi) &= \\frac{\\xi - 0}{1 - 0} = \\xi\n",
    "\\end{align}\n",
    "\n",
    "It is easy to verify that $\\sum_j \\ell^1_j \\equiv 1$."
   ]
  },
  {
   "cell_type": "code",
   "execution_count": null,
   "metadata": {},
   "outputs": [],
   "source": [
    "l1 = Basis_V0(degree=1)"
   ]
  },
  {
   "cell_type": "code",
   "execution_count": null,
   "metadata": {},
   "outputs": [],
   "source": [
    "xi = np.linspace(0, 1, 101)\n",
    "\n",
    "fig, ax = plt.subplots(1, 1, figsize=(12, 6))\n",
    "ax.plot(xi, l1[0](xi), label=r'$\\ell_{0}(\\xi)$')\n",
    "ax.plot(xi, l1[1](xi), label=r'$\\ell_{1}(\\xi)$')\n",
    "ax.legend(fontsize=14)\n",
    "ax.plot([0, 1], [0, 0], 'ko')\n",
    "ax.plot([0, 1], [1, 1], 'ko', mfc='None')\n",
    "ax.grid()\n",
    "ax.set_title('Lagrange basis functions (degree 1)')\n",
    "ax.set_xlabel(r'$\\xi$', size=14)\n",
    "fig.canvas.draw()"
   ]
  },
  {
   "cell_type": "code",
   "execution_count": null,
   "metadata": {},
   "outputs": [],
   "source": [
    "# Lagrange interpolator on primal grid, of degree 1\n",
    "I0 = Interpolator_from_C0_to_V0(xp, basis=l1)\n",
    "\n",
    "# Restriction: from 0-form to C0\n",
    "f0 = f(xp)\n",
    "\n",
    "# Interpolation: from C0 to V0\n",
    "fh = I0(f0)"
   ]
  },
  {
   "cell_type": "code",
   "execution_count": null,
   "metadata": {},
   "outputs": [],
   "source": [
    "fig, ax = plt.subplots(1, 1, figsize=(12, 6))\n",
    "ax.set_title('Interpolation on primal grid (degree 1)')\n",
    "ax.plot(x , f(x) , label=r'$\\psi\\;\\; \\in \\Lambda_0$')\n",
    "ax.plot(xp, f0   , 'ko', mfc='None', ms=8, mew=1.5, label=r'$\\psi^0 \\in C_0$')\n",
    "ax.plot(x , fh(x), label=r'$\\psi_{h} \\in V_0$')\n",
    "ax.legend(fontsize=14)\n",
    "ax.plot(xp, np.zeros_like(xp), 'k.', ms=10)\n",
    "ax.grid()\n",
    "ax.set_xlabel('x')\n",
    "fig.canvas.draw()"
   ]
  },
  {
   "cell_type": "code",
   "execution_count": null,
   "metadata": {},
   "outputs": [],
   "source": [
    "# Convergence test\n",
    "N_list = [10, 20, 40, 80, 160]\n",
    "err_list = []\n",
    "\n",
    "for Ni in N_list:\n",
    "    dx_i, xp_i, xd_i = staggered_grid(xmin, xmax, Ni)\n",
    "    I0_i = Interpolator_from_C0_to_V0(xp_i, basis=l1)\n",
    "    f0_i = f(xp_i)\n",
    "    fh_i = I0_i(f0_i)\n",
    "    err_list.append(max(abs(f(x) - fh_i(x))))\n",
    "\n",
    "print_error_analysis(N_list, err_list)"
   ]
  },
  {
   "cell_type": "markdown",
   "metadata": {},
   "source": [
    "### Degree 3\n",
    "\n",
    "Here we use the points $\\left(\\xi_j\\right)_j = \\{-1, 0, 1, 2\\}$ to define the Lagrange basis functions\n",
    "\n",
    "\\begin{alignat}{2}\n",
    "\\ell^3_{-1}(\\xi) &= \\frac{\\xi~(\\xi - 1)~(\\xi - 2)}{(-1-0)~(-1-1)~(-1-2)}\n",
    "                &&= - \\frac{\\xi^{3}}{6} + \\frac{\\xi^{2}}{2} - \\frac{\\xi}{3} \\\\\n",
    "\\ell^3_0(\\xi) &= \\frac{(\\xi + 1)~(\\xi - 1)~(\\xi - 2)}{(0+1)~(0-1)~(0-2)}\n",
    "             &&= \\phantom{-}\\frac{\\xi^{3}}{2} - \\xi^{2} - \\frac{\\xi}{2} + 1 \\\\\n",
    "\\ell^3_1(\\xi) &= \\frac{(\\xi + 1)~(\\xi - 0)~(\\xi - 2)}{(1+1)~(1-0)~(1-2)}\n",
    "             &&= - \\frac{\\xi^{3}}{2} + \\frac{\\xi^{2}}{2} + \\xi \\\\\n",
    "\\ell^3_2(\\xi) &= \\frac{(\\xi + 1)~(\\xi - 0)~(\\xi - 1)}{(2+1)~(2-0)~(2-1)}\n",
    "             &&= \\phantom{-}\\frac{\\xi^{3}}{6} - \\frac{\\xi}{6} \\\\\n",
    "\\end{alignat}\n",
    "\n",
    "It is easy to verify that $\\sum_j \\ell^3_j \\equiv 1$."
   ]
  },
  {
   "cell_type": "code",
   "execution_count": null,
   "metadata": {},
   "outputs": [],
   "source": [
    "l3 = Basis_V0(degree=3)"
   ]
  },
  {
   "cell_type": "code",
   "execution_count": null,
   "metadata": {},
   "outputs": [],
   "source": [
    "xi = np.linspace(-1, 2, 101)\n",
    "\n",
    "fig, ax = plt.subplots(1, 1, figsize=(12, 6))\n",
    "ax.plot(xi, l3[-1](xi), label=r'$\\ell_{-1}(\\xi)$')\n",
    "ax.plot(xi, l3[ 0](xi), label=r'$\\ell_{0}(\\xi)$')\n",
    "ax.plot(xi, l3[ 1](xi), label=r'$\\ell_{1}(\\xi)$')\n",
    "ax.plot(xi, l3[ 2](xi), label=r'$\\ell_{2}(\\xi)$')\n",
    "ax.legend(fontsize=14)\n",
    "ax.plot([-1, 0, 1, 2], [0, 0, 0, 0], 'ko')\n",
    "ax.plot([-1, 0, 1, 2], [1, 1, 1, 1], 'ko', mfc='None')\n",
    "ax.grid()\n",
    "ax.set_title('Lagrange basis functions (degree 3)')\n",
    "ax.set_xlabel(r'$\\xi$', size=14)\n",
    "fig.canvas.draw()"
   ]
  },
  {
   "cell_type": "code",
   "execution_count": null,
   "metadata": {},
   "outputs": [],
   "source": [
    "# Lagrange interpolation operator on primal grid, of degree 3\n",
    "I0 = Interpolator_from_C0_to_V0(xp, basis=l3)\n",
    "\n",
    "# Restriction: from 0-form to C0\n",
    "f0 = f(xp)\n",
    "\n",
    "# Interpolation: from C0 to V0\n",
    "fh = I0(f0)"
   ]
  },
  {
   "cell_type": "code",
   "execution_count": null,
   "metadata": {},
   "outputs": [],
   "source": [
    "fig, ax = plt.subplots(1, 1, figsize=(12, 6))\n",
    "ax.set_title('Interpolation on primal grid (degree 3)')\n",
    "ax.plot(x , f(x) , label=r'$\\psi\\;\\; \\in \\Lambda_0$')\n",
    "ax.plot(xp, f0   , 'ko', mfc='None', ms=8, mew=1.5, label=r'$\\psi^0 \\in C_0$')\n",
    "ax.plot(x , fh(x), label=r'$\\psi_{h} \\in V_0$')\n",
    "ax.legend(fontsize=14)\n",
    "ax.plot(xp, np.zeros_like(xp), 'k.', ms=10)\n",
    "ax.grid()\n",
    "ax.set_xlabel('x')\n",
    "fig.canvas.draw()"
   ]
  },
  {
   "cell_type": "code",
   "execution_count": null,
   "metadata": {},
   "outputs": [],
   "source": [
    "# Convergence test\n",
    "N_list = [10, 20, 40, 80, 160]\n",
    "err_list = []\n",
    "\n",
    "for Ni in N_list:\n",
    "    dx_i, xp_i, xd_i = staggered_grid(xmin, xmax, Ni)\n",
    "    I0_i = Interpolator_from_C0_to_V0(xp_i, basis=l3)\n",
    "    f0_i = f(xp_i)\n",
    "    fh_i = I0_i(f0_i)\n",
    "    err_list.append(max(abs(f(x) - fh_i(x))))\n",
    "\n",
    "print_error_analysis(N_list, err_list)"
   ]
  },
  {
   "cell_type": "markdown",
   "metadata": {},
   "source": [
    "## Interpolation of point values on the dual grid ($\\tilde{C}_0 \\to \\tilde{V}_{0}$)\n",
    "\n",
    "This is similar to interpolation on the primal grid. We use the same canonical Lagrange basis on a uniform grid in the normalized coordinate $\\tilde{\\xi} := \\frac{x - \\tilde{x}_i}{\\Delta x}$, where $\\tilde{x}_i$ is the coordinate of the $i$-th point on the dual grid.\n",
    "\n",
    "The interpolation operator is\n",
    "\n",
    "$$\n",
    "\\tilde{\\mathcal{I}}_0: \\tilde{\\psi}^0 \\mapsto \\tilde{\\psi}_h,\n",
    "\\qquad\n",
    "\\text{with}\n",
    "\\quad\n",
    "\\tilde{\\psi}_h: x \\mapsto P^d_i\\left(\\frac{x-\\tilde{x}_i}{\\Delta x}\\right)\n",
    "\\qquad\n",
    "\\text{and}\n",
    "\\quad\n",
    "i = \\left\\lfloor {\\frac{x - \\tilde{x}_0}{\\Delta x}} \\right\\rfloor.\n",
    "$$"
   ]
  },
  {
   "cell_type": "code",
   "execution_count": null,
   "metadata": {},
   "outputs": [],
   "source": [
    "fig, ax = plt.subplots(1, 1, figsize=(12, 6))\n",
    "ax.plot(xd, np.zeros_like(xp), 'k.', ms=10, label='Dual grid')\n",
    "ax.plot(x , f(x), label=r'$\\psi\\;\\; \\in \\Lambda_0$')\n",
    "ax.plot(xd, f(xd), 'ko', mfc='None', ms=8, mew=1.5, label=r'$\\tilde{\\psi}^0 \\in \\tilde{C}_0$')\n",
    "ax.legend(fontsize=14)\n",
    "\n",
    "for xdi in xd:\n",
    "    ax.plot([xdi, xdi], [0, f(xdi)], 'k--')\n",
    "\n",
    "ax.grid()\n",
    "ax.set_title(r'Reduction on dual grid, $\\tilde{\\mathcal{R}}_0: \\Lambda_0 \\to \\tilde{C}_0$')\n",
    "ax.set_xlabel('x', size=14)\n",
    "fig.canvas.draw()"
   ]
  },
  {
   "cell_type": "markdown",
   "metadata": {},
   "source": [
    "### Degree 1"
   ]
  },
  {
   "cell_type": "code",
   "execution_count": null,
   "metadata": {},
   "outputs": [],
   "source": [
    "# Lagrange interpolator on primal grid, using basis of degree 1\n",
    "I0_t = Interpolator_from_C0_to_V0(xd, basis=l1)\n",
    "\n",
    "# Restriction: from 0-form to C0\n",
    "f0_t = f(xd)\n",
    "\n",
    "# Interpolation: from C0 to V0\n",
    "fh_t = I0_t(f0_t)"
   ]
  },
  {
   "cell_type": "code",
   "execution_count": null,
   "metadata": {},
   "outputs": [],
   "source": [
    "fig, ax = plt.subplots(1, 1, figsize=(12, 6))\n",
    "ax.set_title('Interpolation on dual grid (degree 1)')\n",
    "ax.plot(x , f(x), label=r'$\\psi\\;\\; \\in \\Lambda_0$')\n",
    "ax.plot(xd, f0_t, 'ko', mfc='None', ms=8, mew=1.5, label=r'$\\tilde{\\psi}^0 \\in \\tilde{C}_0$')\n",
    "ax.plot(x , fh_t(x), label=r'$\\tilde{\\psi}_{h} \\in \\tilde{V}_0$')\n",
    "ax.legend(fontsize=14)\n",
    "ax.plot(xd, np.zeros_like(xd), 'k.', ms=10)\n",
    "ax.grid()\n",
    "ax.set_xlabel('x')\n",
    "fig.canvas.draw()"
   ]
  },
  {
   "cell_type": "code",
   "execution_count": null,
   "metadata": {},
   "outputs": [],
   "source": [
    "# Convergence test\n",
    "N_list = [10, 20, 40, 80, 160]\n",
    "err_list = []\n",
    "\n",
    "for Ni in N_list:\n",
    "    dx_i, xp_i, xd_i = staggered_grid(xmin, xmax, Ni)\n",
    "    I0t_i = Interpolator_from_C0_to_V0(xd_i, basis=l1)\n",
    "    f0t_i = f(xd_i)\n",
    "    fht_i = I0t_i(f0t_i)\n",
    "    err_list.append(max(abs(f(x) - fht_i(x))))\n",
    "\n",
    "print_error_analysis(N_list, err_list)"
   ]
  },
  {
   "cell_type": "markdown",
   "metadata": {},
   "source": [
    "### Degree 3"
   ]
  },
  {
   "cell_type": "code",
   "execution_count": null,
   "metadata": {},
   "outputs": [],
   "source": [
    "# Lagrange interpolator on primal grid, using basis of degree 1\n",
    "I0_t = Interpolator_from_C0_to_V0(xd, basis=l3)\n",
    "\n",
    "# Restriction: from 0-form to C0\n",
    "f0_t = f(xd)\n",
    "\n",
    "# Interpolation: from C0 to V0\n",
    "fh_t = I0_t(f0_t)"
   ]
  },
  {
   "cell_type": "code",
   "execution_count": null,
   "metadata": {},
   "outputs": [],
   "source": [
    "fig, ax = plt.subplots(1, 1, figsize=(12, 6))\n",
    "ax.set_title('Interpolation on dual grid (degree 3)')\n",
    "ax.plot(x , f(x), label=r'$\\psi\\;\\; \\in \\Lambda_0$')\n",
    "ax.plot(xd, f0_t, 'ko', mfc='None', ms=8, mew=1.5, label=r'$\\tilde{\\psi}^0 \\in \\tilde{C}_0$')\n",
    "ax.plot(x , fh_t(x), label=r'$\\tilde{\\psi}_{h} \\in \\tilde{V}_0$')\n",
    "ax.legend(fontsize=14)\n",
    "ax.plot(xd, np.zeros_like(xd), 'k.', ms=10)\n",
    "ax.grid()\n",
    "ax.set_xlabel('x')\n",
    "fig.canvas.draw()"
   ]
  },
  {
   "cell_type": "code",
   "execution_count": null,
   "metadata": {},
   "outputs": [],
   "source": [
    "# Convergence test\n",
    "N_list = [10, 20, 40, 80, 160]\n",
    "err_list = []\n",
    "\n",
    "for Ni in N_list:\n",
    "    dx_i, xp_i, xd_i = staggered_grid(xmin, xmax, Ni)\n",
    "    I0t_i = Interpolator_from_C0_to_V0(xd_i, basis=l3)\n",
    "    f0t_i = f(xd_i)\n",
    "    fht_i = I0t_i(f0t_i)\n",
    "    err_list.append(max(abs(f(x) - fht_i(x))))\n",
    "\n",
    "print_error_analysis(N_list, err_list)"
   ]
  },
  {
   "cell_type": "markdown",
   "metadata": {},
   "source": [
    "## Interpolation of cell integrals on the primal grid ($C_{1} \\to V_{1}$)\n",
    "\n",
    "Given the interpolation operator $\\mathcal{I}_0: C_0 \\to V_0$, we want to find the interpolation operator $\\mathcal{I}_1: C_{1} \\to V_{1}$ that reconstructs a piecewise polynomial $\\varphi_h$ from its cell integrals $\\varphi^1$.\n",
    "We assume that $V_1$ is the image of $V_0$ through the derivative operator $\\frac{d}{dx}$. Therefore, since $V_0$ is a space of continuous piecewise polynomials of degree $d=2p+1$, $V_1$ is a space of discontinuous piecewise polynomials of degree $d-1=2p$. On each open interval $\\left]x_i, x_{i+1}\\right[$, the reconstructed function is\n",
    "\n",
    "$$\n",
    "\\varphi_h(x) = \\sum_{j=-p}^{p} \\varphi^1_j e_j(x),\n",
    "$$\n",
    "\n",
    "where the functions $(e_j)_j$ constitute a canonical basis of $V_1$, in the sense that $\\int_{x_{i+k}}^{x_{i+k+1}} e_j(x)~dx = \\delta_{jk}$.\n",
    "The interpolation operator $\\mathcal{I}_1$ is completely defined if we can write the canonical basis of $V_1$ in terms of the canonical basis of $V_0$: in order to achive this, we ask $\\mathcal{I}_1$ to satisfy the commuting diagram property\n",
    "\n",
    "$$\n",
    "\\frac{d}{dx}\\left(\\mathcal{I}_0 \\psi^0\\right) = \\mathcal{I}_1 \\mathbb{G}~\\psi^0,\n",
    "\\qquad\n",
    "\\forall~\\psi^0 \\in C_0.\n",
    "$$\n",
    "\n",
    "\n",
    "\n",
    "Given that $\\psi_h \\in V_0$ is a Lipschitz continuous functions that is usually _not differentiable_ at the grid points $x_i$, the above statement holds in a _weak_ sense, and it holds in a strong sense on each open interval $\\left]x_i, x_{i+1}\\right[$.\n",
    "\n",
    "If we focus on a single cell and omit its index $i$ for simplicity, the left-hand side of the equation above reads\n",
    "\n",
    "$$\n",
    "\\frac{d}{dx} \\sum_{j=-p}^{p+1}~\\psi^0_j \\ell'_j\n",
    "= \\sum_{j=-p}^{p+1}~\\psi^0_j \\ell_j'\n",
    "= \\psi^0_{-p} \\ell_{-p}' + \\sum_{j=-p+1}^{p}~\\psi^0_j \\ell_j' + \\psi^0_{p+1} \\ell_{p+1}',\n",
    "$$\n",
    "\n",
    "while the right-hand side reads\n",
    "\n",
    "$$\n",
    "\\sum_{j=-p}^{p}~\\left(\\mathbb{G}~\\psi^0\\right)_j e_j\n",
    "= \\sum_{j=-p}^{p}~\\left(\\psi^0_{j+1}-\\psi^0_j\\right) e_j\n",
    "= \\psi^0_{-p} \\left(-e_{-p}\\right) + \\sum_{j=-p+1}^p \\psi^0_j \\left(e_{j-1} - e_j\\right) + \\psi^0_{p+1} e_p.\n",
    "$$\n",
    "\n",
    "Equating the two expressions term-by-term yields a linear system of $2p+1$ equations in $2p$ unknowns,\n",
    "\n",
    "$$\n",
    "\\begin{bmatrix}\n",
    "-1     &        & \\dots  &  0     \\\\\n",
    " 1     & -1     &        & \\vdots \\\\\n",
    "       & \\ddots & \\ddots &        \\\\\n",
    "\\vdots &        &  1     & -1     \\\\\n",
    " 0     & \\dots  &        &  1\n",
    "\\end{bmatrix}\n",
    "\\begin{array}{@{}c@{}}\n",
    "\\begin{bmatrix}\n",
    "e_{-p} \\\\\n",
    "\\vdots \\\\\n",
    "\\\\\n",
    "e_{p}\n",
    "\\end{bmatrix}\\\\\n",
    "\\vphantom{\\vdots}\\\\\n",
    "\\end{array}\n",
    "=\n",
    "\\begin{bmatrix}\n",
    "\\ell'_{-p}\\\\\n",
    "\\vdots \\\\\n",
    "\\\\\n",
    "\\ell'_{p}\\\\\n",
    "\\ell'_{p+1}\n",
    "\\end{bmatrix},\n",
    "$$\n",
    "\n",
    "where one equation is redundant: the side-by-side sum of all equations yields\n",
    "$$\n",
    "0 = \\sum_{j=-p}^{p+1} \\ell'_j,\n",
    "$$\n",
    "an identity that follows from the partition of unity property of the Lagrange basis, as\n",
    "$$\n",
    "\\frac{d}{dx} \\sum_{j=-p}^{p+1} \\ell_j(x) = \\frac{d}{dx}(1) = 0\n",
    "\\qquad\n",
    "\\forall x.\n",
    "$$\n",
    "In order to solve for the unknowns $\\left(e_j\\right)_j$ it is sufficient to arbitrarily remove one equation from the linear system above.\n",
    "If we invert the matrix after removing the first equation, we obtain an upper triangular matrix full of ones:\n",
    "\n",
    "$$\n",
    "\\begin{bmatrix}\n",
    "e_{-p} \\\\\n",
    "\\\\\n",
    "\\vdots \\\\\n",
    "\\\\\n",
    "e_{p}\n",
    "\\end{bmatrix}\n",
    "=\n",
    "\\begin{bmatrix}\n",
    "1      & 1     &        & \\dots  &  1     \\\\\n",
    "       & 1     & 1      &        & \\vdots \\\\\n",
    "       &       & \\ddots & \\ddots &        \\\\\n",
    "\\vdots &       &        & 1      & 1      \\\\\n",
    " 0     & \\dots &        &        & 1\n",
    "\\end{bmatrix}\n",
    "\\begin{bmatrix}\n",
    "\\ell'_{-p+1}\\\\\n",
    "\\\\\n",
    "\\vdots \\\\\n",
    "\\\\\n",
    "\\ell'_{p+1}\n",
    "\\end{bmatrix}.\n",
    "$$\n",
    "\n",
    "Instead, if we invert the matrix after removing the last equation we obtain a lower triangular matrix full of $(-1)$ values:\n",
    "\n",
    "$$\n",
    "\\begin{bmatrix}\n",
    "e_{-p} \\\\\n",
    "\\\\\n",
    "\\vdots \\\\\n",
    "\\\\\n",
    "e_{p}\n",
    "\\end{bmatrix}\n",
    "=\n",
    "\\begin{bmatrix}\n",
    "-1     &        &        & \\dots &  0     \\\\\n",
    "-1     & -1     &        &       & \\vdots \\\\\n",
    "       & \\ddots & \\ddots &       &        \\\\\n",
    "\\vdots &        & -1     & -1    &        \\\\\n",
    "-1     & \\dots  &        & -1    & -1\n",
    "\\end{bmatrix}\n",
    "\\begin{bmatrix}\n",
    "\\ell'_{-p}\\\\\n",
    "\\\\\n",
    "\\vdots \\\\\n",
    "\\\\\n",
    "\\ell'_{p}\n",
    "\\end{bmatrix}.\n",
    "$$\n",
    "\n",
    "Finally, we may also add the missing column to each of the two matrices above and take their average:\n",
    "\n",
    "$$\n",
    "\\begin{bmatrix}\n",
    "e_{-p} \\\\\n",
    "\\\\\n",
    "\\vdots \\\\\n",
    "\\\\\n",
    "e_{p}\n",
    "\\end{bmatrix}\n",
    "=\n",
    "\\frac{1}{2}~\n",
    "\\begin{bmatrix}\n",
    "-1     &  1    &        &        & \\dots & 1      \\\\\n",
    "       & -1    & 1      &        &       & \\vdots \\\\\n",
    "       &       & \\ddots & \\ddots &       &        \\\\\n",
    "\\vdots &       &        & -1     &  1    &        \\\\\n",
    "-1     & \\dots &        &        & -1    & 1\n",
    "\\end{bmatrix}\n",
    "\\begin{array}{@{}c@{}}\n",
    "\\vphantom{\\vdots}\\\\\n",
    "\\begin{bmatrix}\n",
    "\\ell'_{-p}\\\\\n",
    "\\\\\n",
    "\\vdots \\\\\n",
    "\\\\\n",
    "\\ell'_{p}\\\\\n",
    "\\ell'_{p+1}\\\\\n",
    "\\end{bmatrix}.\n",
    "\\end{array}\n",
    "$$\n",
    "\n",
    "This yields the symmetric formula\n",
    "$$\n",
    "e_i = -~\\frac{1}{2} \\sum_{j=-p}^{i} \\ell'_j + \\frac{1}{2}\\sum_{j=i+1}^{p+1} \\ell'_j\n",
    "\\qquad\n",
    "\\text{or}\n",
    "\\qquad\n",
    "e_i = \\frac{1}{2} \\sum_{j=-p}^{p+1} \\text{sgn}\\left(j-i-\\frac{1}{2}\\right)~\\ell'_j.\n",
    "$$"
   ]
  },
  {
   "cell_type": "code",
   "execution_count": null,
   "metadata": {},
   "outputs": [],
   "source": [
    "# Integral of function g over interval [a, b]\n",
    "# Usage: I(a, b)(g)\n",
    "integral = lambda a, b: (lambda g: quad(g, a, b)[0])"
   ]
  },
  {
   "cell_type": "markdown",
   "metadata": {},
   "source": [
    "### Degree 1\n",
    "\n",
    "From the Lagrange basis functions of degree 1 we derive only one histopolation basis function, which is constant:\n",
    "\n",
    "$$\n",
    "e^1_0(\\xi) = 1.\n",
    "$$\n",
    "\n",
    "The partition of unity property, $\\sum_j e^1_j(\\xi) \\equiv 1$, is trivially satisfied in this case."
   ]
  },
  {
   "cell_type": "code",
   "execution_count": null,
   "metadata": {},
   "outputs": [],
   "source": [
    "e1 = Basis_V1(degree=1)"
   ]
  },
  {
   "cell_type": "code",
   "execution_count": null,
   "metadata": {},
   "outputs": [],
   "source": [
    "xi = np.linspace(0, 1, 101)\n",
    "\n",
    "fig, ax = plt.subplots(1, 1, figsize=(10, 5))\n",
    "ax.plot(xi, e1[0](xi), label=r'$e_{0}(\\xi)$')\n",
    "ax.legend(fontsize=14)\n",
    "ax.plot([0, 1], [0, 0], 'ko')\n",
    "ax.plot([0, 1], [1, 1], 'ko', mfc='None')\n",
    "ax.grid()\n",
    "ax.set_title('Histopolation basis functions (degree 1)')\n",
    "ax.set_xlabel(r'$\\xi$')\n",
    "fig.canvas.draw()"
   ]
  },
  {
   "cell_type": "code",
   "execution_count": null,
   "metadata": {},
   "outputs": [],
   "source": [
    "# Lagrange histopolation operator on primal grid, of degree 1\n",
    "I1 = Interpolator_from_C1_to_V1(xp, basis=e1)\n",
    "\n",
    "# Restriction: from 1-form to C1\n",
    "phi1 = [integral(xj, xj+dx)(f) / dx for xj in xp]\n",
    "\n",
    "# Reconstruction: from C1 to V1\n",
    "phi_h = I1(phi1)"
   ]
  },
  {
   "cell_type": "code",
   "execution_count": null,
   "metadata": {},
   "outputs": [],
   "source": [
    "fig, ax = plt.subplots(1, 1, figsize=(10, 5))\n",
    "ax.plot(x, f(x)    , label=r'$\\phi\\in\\Lambda_1$')\n",
    "ax.plot(x, phi_h(x), label=r'$\\phi_{h}\\in V_1$')\n",
    "ax.legend(fontsize=14)\n",
    "ax.grid()\n",
    "ax.set_title('Histopolation on primal grid (degree 1)')\n",
    "ax.set_xlabel('x')\n",
    "fig.canvas.draw()"
   ]
  },
  {
   "cell_type": "code",
   "execution_count": null,
   "metadata": {},
   "outputs": [],
   "source": [
    "# Convergence test\n",
    "N_list = [10, 20, 40, 80, 160]\n",
    "err_list = []\n",
    "\n",
    "for Ni in N_list:\n",
    "    dx_i, xp_i, xd_i = staggered_grid(xmin, xmax, Ni)\n",
    "    I1_i = Interpolator_from_C1_to_V1(xp_i, basis=e1)\n",
    "    F1_i = [integral(xj, xj+dx_i)(f) / dx_i for xj in xp_i]\n",
    "    Fh_i = I1_i(F1_i)\n",
    "    err_list.append(max(abs(f(x) - Fh_i(x))))\n",
    "\n",
    "print_error_analysis(N_list, err_list)"
   ]
  },
  {
   "cell_type": "markdown",
   "metadata": {},
   "source": [
    "### Degree 3\n",
    "\n",
    "From the Lagrange basis functions of degree 3 we derive three histopolation basis functions, namely\n",
    "\n",
    "$$\n",
    "\\begin{aligned}\n",
    "e^3_{-1}(\\xi) &= \\frac{1}{2}\\xi^2 - \\xi + \\frac{1}{3}\\\\\n",
    "e^3_{ 0}(\\xi) &= -\\xi^2           + \\xi + \\frac{5}{6}\\\\\n",
    "e^3_{ 1}(\\xi) &= \\frac{1}{2}\\xi^2       - \\frac{1}{6}\n",
    "\\end{aligned}\n",
    "$$\n",
    "\n",
    "It is easy to verify that $\\sum_j e^3_j(\\xi) \\equiv 1$."
   ]
  },
  {
   "cell_type": "code",
   "execution_count": null,
   "metadata": {},
   "outputs": [],
   "source": [
    "e3 = Basis_V1(degree=3)"
   ]
  },
  {
   "cell_type": "code",
   "execution_count": null,
   "metadata": {},
   "outputs": [],
   "source": [
    "xi = np.linspace(-1, 2, 101)\n",
    "\n",
    "fig, ax = plt.subplots(1, 1, figsize=(10, 5))\n",
    "ax.plot(xi, e3[-1](xi), label=r'$e_{-1}(x)$')\n",
    "ax.plot(xi, e3[ 0](xi), label=r'$e_{0}(x)$')\n",
    "ax.plot(xi, e3[ 1](xi), label=r'$e_{1}(x)$')\n",
    "ax.legend(fontsize=14)\n",
    "ax.plot([-1, 0, 1, 2], [0, 0, 0, 0], 'ko')\n",
    "ax.plot([-1, 0], [0, 0], 'k')\n",
    "ax.plot([ 0, 1], [1, 1], 'k')\n",
    "ax.plot([ 1, 2], [0, 0], 'k')\n",
    "ax.grid()\n",
    "ax.set_title('Histopolation basis functions on primal grid (degree 3)')\n",
    "ax.set_xlabel('x')\n",
    "fig.canvas.draw()"
   ]
  },
  {
   "cell_type": "code",
   "execution_count": null,
   "metadata": {},
   "outputs": [],
   "source": [
    "# Lagrange histopolation operator on primal grid, of degree 3\n",
    "I1 = Interpolator_from_C1_to_V1(xp, basis=e3)\n",
    "\n",
    "# Restriction: from 1-form to C1\n",
    "phi1 = [integral(xj, xj+dx)(f) / dx for xj in xp]\n",
    "\n",
    "# Reconstruction: from C1 to V1\n",
    "phi_h = I1(phi1)"
   ]
  },
  {
   "cell_type": "code",
   "execution_count": null,
   "metadata": {},
   "outputs": [],
   "source": [
    "fig, ax = plt.subplots(1, 1, figsize=(10, 5))\n",
    "ax.plot(x, f(x)    , label=r'$\\phi \\in \\Lambda_1$')\n",
    "ax.plot(x, phi_h(x), label=r'$\\phi_{h} \\in V_1$')\n",
    "ax.legend(fontsize=14)\n",
    "ax.grid()\n",
    "ax.set_title('Histopolation on primal grid (degree 3)')\n",
    "ax.set_xlabel('x')\n",
    "fig.canvas.draw()"
   ]
  },
  {
   "cell_type": "code",
   "execution_count": null,
   "metadata": {},
   "outputs": [],
   "source": [
    "# Convergence test\n",
    "N_list = [10, 20, 40, 80, 160]\n",
    "err_list = []\n",
    "\n",
    "for Ni in N_list:\n",
    "    dx_i, xp_i, xd_i = staggered_grid(xmin, xmax, Ni)\n",
    "    I1_i = Interpolator_from_C1_to_V1(xp_i, basis=e3)\n",
    "    F1_i = [integral(xj, xj+dx_i)(f) / dx_i for xj in xp_i]\n",
    "    Fh_i = I1_i(F1_i)\n",
    "    err_list.append(max(abs(f(x) - Fh_i(x))))\n",
    "\n",
    "print_error_analysis(N_list, err_list)"
   ]
  },
  {
   "cell_type": "markdown",
   "metadata": {},
   "source": [
    "# Hodge going from 1-form to 0-form\n",
    "\n",
    "Let's look at the Hodge operator that maps integral values on the dual grid onto point values on the primal grid\n",
    "\n",
    "$$\n",
    "\\mathbb{H}_0 :  \\tilde{\\mathbb{C}}_1 \\to \\mathbb{C}_0,\n",
    "\\quad\n",
    "\\tilde{\\varphi}^1 \\mapsto \\mathbb{H}_0 \\left(\\tilde{\\varphi}^1\\right) = \\psi^0.\n",
    "$$\n",
    "\n",
    "We can choose it to satisfy the commuting diagram property\n",
    "\n",
    "$$\n",
    "\\mathbb{H}_0 := \\mathcal{R}_0 \\star \\tilde{\\mathcal{I}}_1,\n",
    "$$\n",
    "\n",
    "where\n",
    "\n",
    "$$\n",
    "\\begin{alignedat}{6}\n",
    "\\tilde{\\mathcal{I}}_1 &: \\tilde{\\mathbb{C}}_1 \\to V_1 \\subset \\Lambda_1\n",
    "     \\qquad && \\tilde{\\varphi}^1 &\\mapsto&~\\tilde{\\mathcal{I}}_1\\left(\\tilde{\\varphi}^1\\right) = \\varphi_h\n",
    "     \\qquad && \\text{histopolation on dual grid}\n",
    "     \\qquad\\qquad && \\varphi_h(x) = \\sum_{k=-p}^p \\tilde{\\varphi}^1_{i+k}~\\tilde{e}_k(x)\\\\\n",
    "\\star &: \\Lambda_1 \\to \\Lambda_0\n",
    "     && \\star &\\mapsto& \\star (\\varphi) = \\psi\n",
    "     && \\text{identity}\n",
    "     && \\psi(x) = \\star \\varphi_h(x) = \\sum_{k=-p}^p \\tilde{\\varphi}^1_{i+k}~\\tilde{e}_k(x) \\\\\n",
    "\\mathcal{R}_0 &: \\Lambda_0 \\to \\mathbb{C}_0\n",
    "     && \\psi &\\mapsto&~\\mathcal{R}_0(\\psi) = \\psi^0\n",
    "     && \\text{evaluation on primal grid}\n",
    "     && \\psi^0_i = \\mathcal{R}_0(\\psi)_i = \\psi \\left(x_i\\right) = \\sum_{k=-p}^p \\tilde{\\varphi}^1_{i+k}~\\tilde{e}_k(x_i)\n",
    "\\end{alignedat}\n",
    "$$\n",
    "\n",
    "We know that $\\psi^0 = \\mathbb{H}_0 \\tilde{\\varphi}^1$, hence we can write the entries of the Hodge matrix as\n",
    "\n",
    "$$\n",
    "\\left(\\mathbb{H}_0\\right)_{ij} =\n",
    "\\begin{cases}\n",
    "  \\frac{1}{\\Delta x} ~ e_{i-j}\\left(\\frac{1}{2}\\right) & \\text{if $j \\in [i-p, i+p]$},\\\\\n",
    "  0 & \\text{otherwise}.\n",
    "\\end{cases}\n",
    "$$\n",
    "\n",
    "where we have used the \"canonical\" basis functions in the normalized variable $\\xi$.\n",
    "\n",
    "Note that if we choose to define $\\mathbb{H}_0$ according to this formula, in the code we must make the approximation $\\tilde{\\mathbb{H}}_1 \\approx \\left(\\mathbb{H}_0\\right)^{-1}$."
   ]
  },
  {
   "cell_type": "code",
   "execution_count": null,
   "metadata": {},
   "outputs": [],
   "source": [
    "# Construct the Hodge matrix that maps (discrete) 1-forms to (discrete) 0-forms\n",
    "\n",
    "# NOTE: result should be divided by dx!\n",
    "def Hodge0(N, degree):\n",
    "    e = Basis_V1(degree)\n",
    "    p = degree // 2\n",
    "    c = np.zeros(N)\n",
    "\n",
    "    c[:p+1] = [e[i](0.5) for i in range(p+1)]\n",
    "    \n",
    "    if p > 0:\n",
    "        c[-p: ] = [e[i](0.5) for i in range(-p, 0)]\n",
    "\n",
    "    return circulant(c)\n",
    "\n",
    "np.set_printoptions(linewidth=130, precision=5)"
   ]
  },
  {
   "cell_type": "markdown",
   "metadata": {},
   "source": [
    "### Degree 1"
   ]
  },
  {
   "cell_type": "code",
   "execution_count": null,
   "metadata": {},
   "outputs": [],
   "source": [
    "H0_d1 = Hodge0(N, 1)\n",
    "H0_d1"
   ]
  },
  {
   "cell_type": "markdown",
   "metadata": {},
   "source": [
    "### Degree 3"
   ]
  },
  {
   "cell_type": "code",
   "execution_count": null,
   "metadata": {},
   "outputs": [],
   "source": [
    "H0_d3 = Hodge0(N, 3)\n",
    "H0_d3"
   ]
  },
  {
   "cell_type": "code",
   "execution_count": null,
   "metadata": {},
   "outputs": [],
   "source": [
    "print('Check:')\n",
    "print('------')\n",
    "print('26/24 = {}'.format(26/24))\n",
    "print('-1/24 = {}'.format(-1/24))"
   ]
  },
  {
   "cell_type": "markdown",
   "metadata": {},
   "source": [
    "### Degree 5"
   ]
  },
  {
   "cell_type": "code",
   "execution_count": null,
   "metadata": {},
   "outputs": [],
   "source": [
    "H0_d5 = Hodge0(N, 5)\n",
    "H0_d5"
   ]
  },
  {
   "cell_type": "code",
   "execution_count": null,
   "metadata": {},
   "outputs": [],
   "source": [
    "print('Check:')\n",
    "print('------')\n",
    "print('1067/960 = {}'.format(1067/960))\n",
    "print(' -29/480 = {}'.format( -29/480))\n",
    "print('   3/640 = {}'.format(   3/640))"
   ]
  },
  {
   "cell_type": "markdown",
   "metadata": {},
   "source": [
    "# Hodge going from 0-form to 1-form\n",
    "\n",
    "Let's look at the Hodge operator that maps point values on the primal grid onto integral values on the dual grid\n",
    "\n",
    "$$\n",
    "\\tilde{\\mathbb{H}}_1 :  \\mathbb{C}_0 \\to \\tilde{\\mathbb{C}}_1,\n",
    "\\quad\n",
    "\\psi^0 \\mapsto \\tilde{\\mathbb{H}}_1 \\left(\\psi^0\\right) = \\tilde{\\varphi}^1.\n",
    "$$\n",
    "\n",
    "We can choose it to satisfy the commuting diagram property\n",
    "\n",
    "$$\n",
    "\\tilde{\\mathbb{H}}_1 := \\tilde{\\mathcal{R}}_1 \\star \\mathcal{I}_0,\n",
    "$$\n",
    "\n",
    "where\n",
    "\n",
    "$$\n",
    "\\begin{alignedat}{6}\n",
    "\\mathcal{I}_0 &: \\mathbb{C}_0 \\to V_0 \\subset \\Lambda_0\n",
    "     \\qquad && \\psi^0 &\\mapsto&~\\mathcal{I}_0\\left(\\psi^0\\right) = \\psi_h\n",
    "     \\qquad && \\text{interpolation on primal grid}\n",
    "     \\qquad\\qquad && \\psi_h(x) = \\sum_{k=-p}^{p+1} \\psi^0_{i+k}~\\ell_k(x)\\\\\n",
    "\\star &: \\Lambda_0 \\to \\Lambda_1\n",
    "     && \\star &\\mapsto& \\star (\\psi) = \\varphi\n",
    "     && \\text{identity}\n",
    "     && \\varphi(x) = \\star \\psi_h(x) = \\sum_{k=-p}^{p+1} \\psi^0_{i+k}~\\ell_k(x) \\\\\n",
    "\\tilde{\\mathcal{R}}_1 &: \\Lambda_1 \\to \\tilde{\\mathbb{C}}_1\n",
    "     && \\varphi &\\mapsto&~\\tilde{\\mathcal{R}}_1(\\varphi) = \\tilde{\\varphi}^1\n",
    "     && \\text{integration on dual grid}\n",
    "     && \\tilde{\\varphi}^1_i = \\tilde{\\mathcal{R}}_1(\\varphi)_i = \\int_{\\tilde{x}_{i-1}}^{\\tilde{x}_i} \\varphi(x)~dx = \\dots\n",
    "\\end{alignedat}\n",
    "$$\n",
    "\n",
    "Let's take a closer look at the last integral:\n",
    "\n",
    "$$\n",
    "\\begin{aligned}\n",
    "\\tilde{\\varphi}^1_i &= \\tilde{\\mathcal{R}}_1(\\varphi)_i = \\int_{\\tilde{x}_{i-1}}^{\\tilde{x}_i} \\varphi(x)~dx\n",
    "    = \\int_{x_i - \\frac{\\Delta x}{2}}^{x_i} \\varphi(x)~dx + \\int_{x_i}^{x_i + \\frac{\\Delta x}{2}} \\varphi(x)~dx \\\\\n",
    "&= \\sum_{k=-p-1}^{p} \\psi^0_{i+k} \\left[ \\Delta x \\int_{\\frac{1}{2}}^{1} \\ell_{k+1}(\\xi)~d\\xi \\right] +\n",
    "   \\sum_{k=-p}^{p+1} \\psi^0_{i+k} \\left[ \\Delta x \\int_{0}^{\\frac{1}{2}} \\ell_{k  }(\\xi)~d\\xi \\right]\n",
    "\\end{aligned}\n",
    "$$\n",
    "\n",
    "From this we get that $\\tilde{\\varphi}^1 = A \\psi^0 + B \\psi^0$ with\n",
    "\n",
    "$$\n",
    "A_{ij} =\n",
    "\\begin{cases}\n",
    "\\Delta x \\int_{\\frac{1}{2}}^{1}{\\ell_{j-i+1}(\\xi)~d\\xi} & \\text{if $j \\in [i-p-1, i+p]$},\\\\\n",
    "0 & \\text{otherwise},\n",
    "\\end{cases}\n",
    "\\qquad\n",
    "B_{ij} =\n",
    "\\begin{cases}\n",
    "\\Delta x \\int_{0}^{\\frac{1}{2}}{\\ell_{j-i}(\\xi)~d\\xi} & \\text{if $j \\in [i-p, i+p+1]$},\\\\\n",
    "0 & \\text{otherwise},\n",
    "\\end{cases}\n",
    "$$\n",
    "\n",
    "and since we know that $\\tilde{\\varphi}^1 = \\tilde{\\mathbb{H}}_1 \\psi^0$, we can write the Hodge matrix as $\\tilde{\\mathbb{H}}_1 = A + B$."
   ]
  },
  {
   "cell_type": "code",
   "execution_count": null,
   "metadata": {},
   "outputs": [],
   "source": [
    "# Construct the Hodge matrix that maps (discrete) 0-forms to (discrete) 1-forms\n",
    "\n",
    "# NOTE: result should be multiplied by dx!\n",
    "def Hodge1(N, degree):\n",
    "    l = Basis_V0(degree)\n",
    "    p = degree // 2\n",
    "\n",
    "    a = np.zeros(N)\n",
    "    for k in range(-p-1, p+1):\n",
    "        L    = l[k+1].integ()\n",
    "        i    = k % N\n",
    "        a[i] = L(1) - L(0.5)\n",
    "\n",
    "    b = np.zeros(N)\n",
    "    for k in range(-p, p+2):\n",
    "        L    = l[k].integ()\n",
    "        i    = k % N\n",
    "        b[i] = L(0.5) - L(0)\n",
    "\n",
    "    return circulant(a + b)"
   ]
  },
  {
   "cell_type": "markdown",
   "metadata": {},
   "source": [
    "### Degree 1"
   ]
  },
  {
   "cell_type": "code",
   "execution_count": null,
   "metadata": {},
   "outputs": [],
   "source": [
    "H1_d1 = Hodge1(N, 1)\n",
    "H1_d1"
   ]
  },
  {
   "cell_type": "code",
   "execution_count": null,
   "metadata": {},
   "outputs": [],
   "source": [
    "print('Check:')\n",
    "print('------')\n",
    "print('6/8 = {}'.format(6/8))\n",
    "print('1/8 = {}'.format(1/8))"
   ]
  },
  {
   "cell_type": "markdown",
   "metadata": {},
   "source": [
    "### Degree 3"
   ]
  },
  {
   "cell_type": "code",
   "execution_count": null,
   "metadata": {},
   "outputs": [],
   "source": [
    "H1_d3 = Hodge1(N, 3)\n",
    "H1_d3"
   ]
  },
  {
   "cell_type": "code",
   "execution_count": null,
   "metadata": {},
   "outputs": [],
   "source": [
    "print('Check:')\n",
    "print('------')\n",
    "print('310/384 = {}'.format(310/384))\n",
    "print(' 44/384 = {}'.format( 44/384))\n",
    "print(' -7/384 = {}'.format( -7/384))"
   ]
  },
  {
   "cell_type": "markdown",
   "metadata": {},
   "source": [
    "### Degree 5"
   ]
  },
  {
   "cell_type": "code",
   "execution_count": null,
   "metadata": {},
   "outputs": [],
   "source": [
    "H1_d5 = Hodge1(N, 5)\n",
    "H1_d5"
   ]
  }
 ],
 "metadata": {
  "kernelspec": {
   "display_name": "Python 3",
   "language": "python",
   "name": "python3"
  },
  "language_info": {
   "codemirror_mode": {
    "name": "ipython",
    "version": 3
   },
   "file_extension": ".py",
   "mimetype": "text/x-python",
   "name": "python",
   "nbconvert_exporter": "python",
   "pygments_lexer": "ipython3",
   "version": "3.7.3"
  }
 },
 "nbformat": 4,
 "nbformat_minor": 2
}
