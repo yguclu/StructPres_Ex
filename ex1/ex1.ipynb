{
 "cells": [
  {
   "cell_type": "markdown",
   "metadata": {
    "toc-hr-collapsed": false
   },
   "source": [
    "# Maxwell's equations on a periodic 1D grid of $[0,L]$\n",
    "\n",
    "## Staggered grid\n",
    "Consider the periodic 1D interval $[0, L]$. The primal grid consists of the nodes of a uniform grid of $N$ cells $x_j = j L~/N$ for $0\\le j < N$, and the dual grid consists of the midpoints of the cells $x_{j+1/2} = \\left(j+\\frac{1}{2}\\right) L~/N$ for $0\\le j < N$."
   ]
  },
  {
   "cell_type": "code",
   "execution_count": 1,
   "metadata": {
    "scrolled": false
   },
   "outputs": [],
   "source": [
    "# Place interactive figures inside the notebook\n",
    "#%matplotlib widget\n",
    "%matplotlib inline\n",
    "\n",
    "# Import modules\n",
    "import numpy as np\n",
    "import matplotlib.pyplot as plt\n",
    "\n",
    "# Create vector images using TikZ?\n",
    "#\n",
    "# To use TikZ, make sure that ImageMagick and pdf2svg packages are installed\n",
    "# on your machine, then install \"ipython-tikzmagic\" jupyter extension with\n",
    "#\n",
    "# pip3 install --user git+git://github.com/mkrphys/ipython-tikzmagic.git\n",
    "use_tikz = True\n",
    "\n",
    "# Load TikZ extension, or create dummy magic to skip cell content\n",
    "if use_tikz:\n",
    "    %load_ext tikzmagic\n",
    "else:\n",
    "    from IPython.core.magic import register_cell_magic\n",
    "    @register_cell_magic\n",
    "    def tikz(line, cell=None):\n",
    "        return"
   ]
  },
  {
   "cell_type": "code",
   "execution_count": null,
   "metadata": {},
   "outputs": [],
   "source": [
    "%%tikz -s 600,200 -f svg\n",
    "\\scriptsize\n",
    "\\filldraw[fill=white] (-1,-1) rectangle (6,1);\n",
    "\\draw[step=1.0,black,thin] (0,0) grid (5.,0.);\n",
    "\\foreach \\x in {0,...,4}\n",
    "    \\draw (\\x cm,-3pt) -- (\\x cm,3pt);\n",
    "\\foreach \\x in {0.5,...,4.5}      \n",
    "    \\draw (\\x,0) node{$\\times$};\n",
    "\\foreach \\x in {0,...,1}\n",
    "    \\draw (\\x,-10pt) node{$x_\\x$};\n",
    "\\draw (5.01,3pt) arc (160:200:10pt);\n",
    "\\draw (4,-10pt) node{$x_{N-1}$};  \n",
    "\\draw (0,10pt) node{$0$};  \n",
    "\\draw (5,10pt) node{$1$};        \n",
    "\\draw (0.5,-10pt) node{$x_{\\frac{1}{2}}$};\n",
    "\\draw (1.5,-10pt) node{$x_{\\frac{3}{2}}$};\n",
    "\\draw (4.7,-10pt) node{$x_{N-\\frac{1}{2}}$};"
   ]
  },
  {
   "cell_type": "markdown",
   "metadata": {},
   "source": [
    "Consider the homogeneous 1D Maxwell equations on our periodic domain\n",
    "\n",
    "\\begin{equation}\n",
    "\\left\\{\n",
    "\\begin{split}\n",
    "\\frac{\\partial E}{\\partial t} + \\frac{\\partial B}{\\partial x} &= 0, \\\\\n",
    "\\frac{\\partial B}{\\partial t} + \\frac{\\partial E}{\\partial x} &= 0,\n",
    "\\end{split}\n",
    "\\right.\n",
    "\\end{equation}\n",
    "\n",
    "with initial conditions $E(t=0,x) = E_0(x)$ and $B(t=0,x) = B_0(x)$"
   ]
  },
  {
   "cell_type": "markdown",
   "metadata": {
    "toc-hr-collapsed": false
   },
   "source": [
    "## Yee's scheme\n",
    "\n",
    "Given a time-step size $\\Delta t$, a staggered grid is also created in time:\n",
    "\n",
    "1. The primal grid has values $t_n = n\\Delta t$ for $n\\in\\mathbb{N}$;\n",
    "2. The dual grid has values $t_{n+1/2} = \\left(n +\\frac{1}{2}\\right)\\Delta t$ for $n\\in\\mathbb{N}$.\n",
    "\n",
    "Moreover:\n",
    "\n",
    "- The field $E$ is described by its point values on the ___primal___ space-time grid $(t_n, x_j)$;\n",
    "- The field $B$ is described by its point values on the ___dual___ space-time grid $(t_{n+1/2}, x_{j+1/2})$;\n",
    "- The time and spatial derivatives of $E$ and $B$ are approximated by 2nd-ordered centered finite difference formulas.\n",
    "\n",
    "We obtain therefore the following update formulas, to be applied consecutively:\n",
    "\n",
    "\\begin{align}\n",
    "%\n",
    "\\color{orange}{B^{n+1/2}_{j+1/2}} &= B^{n-1/2}_{j+1/2} +\n",
    "    \\frac{\\Delta t}{\\Delta x}\\left(E^{n}_{j} - E^{n}_{j+1}\\right),\n",
    "    \\qquad {0\\le j < N},\\\\\n",
    "%\n",
    "\\color{cyan}{E^{n+1}_{j}} &= E^n_{j} + \\frac{\\Delta t}{\\Delta x}\n",
    "    \\left(\\color{orange}{B^{n+1/2}_{j-1/2}} - \\color{orange}{B^{n+1/2}_{j+1/2}} \\right),\n",
    "    \\qquad {0\\le j < N}.\n",
    "%\n",
    "\\end{align}\n",
    "\n",
    "\n",
    "### Startup and shutdown\n",
    "\n",
    "Notice that at time $n=0$ one needs to compute the values $\\left\\{B^{-1/2}_{j+1/2}\\right\\}_j$ from the initial condition $\\left\\{B^{0}_{j+1/2}\\right\\}_j$ in order to start the scheme:\n",
    "\n",
    "\\begin{equation}\n",
    "  B^{-1/2}_{j+1/2} = B^0_{j+1/2} - \\frac{\\Delta t}{2\\Delta x}\n",
    "  \\left(E^{0}_{j} - E^{0}_{j+1}\\right),\n",
    "  \\qquad {0\\le j < N}.\n",
    "\\end{equation}\n",
    "\n",
    "Similarly, at the last time step $M$ one needs to compute the final solution $\\left\\{B^{M}_{j+1/2}\\right\\}_j$ from the previous values $\\left\\{B^{M-1/2}_{j+1/2}\\right\\}_j$:\n",
    "\n",
    "\\begin{equation}\n",
    "  B^{M}_{j+1/2} = B^{M-1/2}_{j+1/2} + \\frac{\\Delta t}{2\\Delta x}\n",
    "  \\left(E^{M}_{j} - E^{M}_{j+1}\\right),\n",
    "  \\qquad {0\\le j < N}.\n",
    "\\end{equation}\n",
    "\n",
    "In general, the operation of pushing the discrete $B$ field forward (and then backward) in time is required whenever the solution needs to be visualized.\n",
    "\n",
    "\n",
    "### Energy diagnostic\n",
    "\n",
    "The electromagnetic energy in the continuous system at time $t$ is\n",
    "\n",
    "\\begin{equation}\n",
    "  W(t) = \\frac{1}{2} \\int_0^L \\left[ E^2(t) + B^2(t) \\right] dx,\n",
    "\\end{equation}\n",
    "\n",
    "which is constant in time thanks to the periodic boundary conditions.\n",
    "In order to compute a discrete version of the above, we can use the rectangle quadrature rule separately on the primal and dual grids, and then add up the results to obtain\n",
    "\n",
    "\\begin{equation}\n",
    "  W^n = \\frac{\\Delta x}{2} \\sum_{j=0}^{N-1} \\left[\n",
    "  \\left(E^n_j\\right)^2 + \\left(B^n_{j+1/2}\\right)^2 \\right],\n",
    "\\end{equation}\n",
    "\n",
    "where the values $\\left(B^n_{j+1/2}\\right)_j$ at the integer times $t_n$ are obtained through a procedure similar to the above."
   ]
  },
  {
   "cell_type": "code",
   "execution_count": null,
   "metadata": {},
   "outputs": [],
   "source": [
    "%run ex1_yee.py -h"
   ]
  },
  {
   "cell_type": "code",
   "execution_count": null,
   "metadata": {},
   "outputs": [],
   "source": [
    "%run ex1_yee.py 20 -t 20"
   ]
  },
  {
   "cell_type": "markdown",
   "metadata": {},
   "source": [
    "### Convergence Analysis"
   ]
  },
  {
   "cell_type": "code",
   "execution_count": null,
   "metadata": {},
   "outputs": [],
   "source": [
    "# Coarsest grid: number of cells and time-steps\n",
    "N0 = 20\n",
    "s0 = 20\n",
    "\n",
    "refinement = [(2**i) for i in range(4)]\n",
    "\n",
    "N_list   = []\n",
    "err_list = []\n",
    "\n",
    "for r in refinement:\n",
    "    N = N0 * r\n",
    "    s = s0 * r\n",
    "    \n",
    "    %run ex1_yee.py $N -p 0 -t $s\n",
    "    \n",
    "    N_list.append(yee_namespace['N'])\n",
    "    err_list.append(yee_namespace['error_E'])"
   ]
  },
  {
   "cell_type": "code",
   "execution_count": null,
   "metadata": {},
   "outputs": [],
   "source": [
    "print_error_analysis(N_list, err_list)"
   ]
  },
  {
   "cell_type": "markdown",
   "metadata": {},
   "source": [
    "### Stability\n",
    "\n",
    "If we define the (circulant) differentiation matrix $D \\in \\mathbb{R}^{N \\times N}$ as\n",
    "\n",
    "\\begin{equation}\n",
    "  D = \\frac{\\Delta t}{\\Delta x}~\n",
    "  \\begin{pmatrix}\n",
    "     1 &  0 & \\dots  & \\dots  & -1 \\\\\n",
    "    -1 &  1 &        &        &  0 \\\\\n",
    "     0 & -1 &  1     &        &    \\\\\n",
    "       &    & \\ddots & \\ddots &    \\\\\n",
    "     0 &    & \\ddots &   -1   &  1 \\\\\n",
    "  \\end{pmatrix}\n",
    "\\end{equation}\n",
    "\n",
    "it is possible to write the one-step update formula of the Yee scheme as\n",
    "\n",
    "\\begin{equation}\n",
    "  \\begin{pmatrix}\n",
    "  I & 0 \\\\\n",
    "  D & I \\\\\n",
    "  \\end{pmatrix}\n",
    "  \\begin{pmatrix}\n",
    "    B^{n+1/2} \\\\\n",
    "    E^{n+1}   \\\\\n",
    "  \\end{pmatrix} =\n",
    "  \\begin{pmatrix}\n",
    "  I & D^{T} \\\\\n",
    "  0 & I   \\\\\n",
    "  \\end{pmatrix}\n",
    "  \\begin{pmatrix}\n",
    "    B^{n-1/2} \\\\\n",
    "    E^{n}     \\\\\n",
    "  \\end{pmatrix}.\n",
    "\\end{equation}\n",
    "\n",
    "We notice that the matrix on the left-hand side is easily invertible,\n",
    "\n",
    "\\begin{equation}\n",
    "  \\begin{pmatrix}\n",
    "  I & 0 \\\\\n",
    "  D & I \\\\\n",
    "  \\end{pmatrix}^{-1} =\n",
    "  \\begin{pmatrix}\n",
    "   I & 0 \\\\\n",
    "  -D & I \\\\\n",
    "  \\end{pmatrix},\n",
    "\\end{equation}\n",
    "\n",
    "and therefore\n",
    "\n",
    "\\begin{equation}\n",
    "  \\begin{pmatrix}\n",
    "    B^{n+1/2} \\\\\n",
    "    E^{n+1}   \\\\\n",
    "  \\end{pmatrix} =\n",
    "  \\begin{pmatrix}\n",
    "   I &      D^T \\\\\n",
    "  -D & I -D D^T   \\\\\n",
    "  \\end{pmatrix}\n",
    "  \\begin{pmatrix}\n",
    "    B^{n-1/2} \\\\\n",
    "    E^{n}     \\\\\n",
    "  \\end{pmatrix}.\n",
    "\\end{equation}\n",
    "\n",
    "Given the initial conditions, the solution after $M$ time steps is obtained by applying the formula above recursively for $M$ times. This yields\n",
    "\n",
    "\\begin{equation}\n",
    "  \\begin{pmatrix}\n",
    "    B^{M-1/2} \\\\\n",
    "    E^{M}   \\\\\n",
    "  \\end{pmatrix} =\n",
    "  \\begin{pmatrix}\n",
    "   I &      D^T \\\\\n",
    "  -D & I -D D^T   \\\\\n",
    "  \\end{pmatrix}^{M}\n",
    "  \\begin{pmatrix}\n",
    "    B^{-1/2} \\\\\n",
    "    E^{0}     \\\\\n",
    "  \\end{pmatrix}.\n",
    "\\end{equation}\n",
    "\n",
    "If we simplify the notation as\n",
    "\n",
    "\\begin{equation}\n",
    "  U^{n+1} = A~U^n\n",
    "\\end{equation}\n",
    "\n",
    "and we write the eigendecomposition $A = Q\\Lambda Q^{-1}$ then we have\n",
    "\n",
    "\\begin{equation}\n",
    "  U^{M} = A^M U^0 = (Q~\\Lambda Q^{-1})^M ~ U^0 = Q~\\Lambda^M Q^{-1} ~ U^0.\n",
    "\\end{equation}\n",
    "\n",
    "So clearly the solution $U^M$ will not \"explode\" as $M\\to\\infty$ if and only if all the eigenvalues of $A$ satisfy\n",
    "\n",
    "\\begin{equation}\n",
    "  | \\lambda_i | \\le 1.\n",
    "\\end{equation}\n",
    "\n",
    "One can easily see that the __stability__ of the scheme depends the ratio $C_p = \\Delta t/\\Delta x$, which is called the Courant parameter."
   ]
  },
  {
   "cell_type": "code",
   "execution_count": 2,
   "metadata": {},
   "outputs": [],
   "source": [
    "def yee_eigenvalues(N, Cp):\n",
    "\n",
    "    from scipy import linalg as la\n",
    "\n",
    "    I = np.identity(N)\n",
    "    c = np.zeros(N); c[0] = Cp; c[1] = -Cp\n",
    "    D = la.circulant(c)\n",
    "    A = np.block([[ I, D.T               ],\n",
    "                  [-D, I - np.dot(D, D.T)]])\n",
    "    \n",
    "    return np.linalg.eigvals(A)"
   ]
  },
  {
   "cell_type": "code",
   "execution_count": 3,
   "metadata": {},
   "outputs": [
    {
     "data": {
      "text/plain": [
       "array([1., 1., 1., 1., 1., 1., 1., 1., 1., 1., 1., 1., 1., 1., 1., 1., 1.,\n",
       "       1., 1., 1.])"
      ]
     },
     "execution_count": 3,
     "metadata": {},
     "output_type": "execute_result"
    }
   ],
   "source": [
    "abs( yee_eigenvalues(10, 0.7) )"
   ]
  },
  {
   "cell_type": "code",
   "execution_count": 4,
   "metadata": {},
   "outputs": [
    {
     "data": {
      "text/plain": [
       "array([2.42816665, 0.41183335, 1.83195669, 1.83195669, 1.        ,\n",
       "       1.        , 1.        , 1.        , 1.        , 1.        ,\n",
       "       1.        , 1.        , 1.        , 1.        , 1.        ,\n",
       "       1.        , 1.        , 1.        , 0.54586443, 0.54586443])"
      ]
     },
     "execution_count": 4,
     "metadata": {},
     "output_type": "execute_result"
    }
   ],
   "source": [
    "abs( yee_eigenvalues(10, 1.1) )"
   ]
  },
  {
   "cell_type": "code",
   "execution_count": 8,
   "metadata": {},
   "outputs": [
    {
     "data": {
      "image/png": "[encoded data removed]",
      "text/plain": [
       "<Figure size 432x288 with 1 Axes>"
      ]
     },
     "metadata": {
      "needs_background": "light"
     },
     "output_type": "display_data"
    },
    {
     "data": {
      "application/vnd.jupyter.widget-view+json": {
       "model_id": "72383c1f087248ce8da072407ca30fe5",
       "version_major": 2,
       "version_minor": 0
      },
      "text/plain": [
       "interactive(children=(IntSlider(value=10, description='N', min=10, step=10), FloatSlider(value=0.5, descriptio…"
      ]
     },
     "metadata": {},
     "output_type": "display_data"
    },
    {
     "data": {
      "text/plain": [
       "<function __main__.plot_yee_eigenvalues(N, Cp)>"
      ]
     },
     "execution_count": 8,
     "metadata": {},
     "output_type": "execute_result"
    }
   ],
   "source": [
    "fig = plt.figure(10)\n",
    "ax  = fig.subplots(1, 1)\n",
    "ax.grid(True)\n",
    "unit_circle = plt.Circle((0, 0), 1.0, color='r')\n",
    "ax.add_artist(unit_circle)\n",
    "\n",
    "def plot_yee_eigenvalues(N, Cp):\n",
    "    eigs = yee_eigenvalues(N, Cp)\n",
    "    if len(ax.lines) > 0:\n",
    "        ax.lines.pop()\n",
    "    ax.plot(eigs.real, eigs.imag, '*b')\n",
    "    ax.set_xlim([-2, 2])\n",
    "    ax.set_ylim([-2, 2])\n",
    "    ax.set_aspect('equal')\n",
    "    ax.set_xlabel(r'$Re(\\lambda)$')\n",
    "    ax.set_ylabel(r'$Im(\\lambda)$')\n",
    "    fig.canvas.draw()\n",
    "\n",
    "import ipywidgets as widgets\n",
    "from ipywidgets import interact\n",
    "\n",
    "ncells_widget  = widgets.IntSlider(min=10, max=100, step=10, value=10)\n",
    "courant_widget = widgets.FloatSlider(min=0.1, max=1.2, step=0.1, value=0.5)\n",
    "interact(plot_yee_eigenvalues, N=ncells_widget, Cp=courant_widget)"
   ]
  },
  {
   "cell_type": "code",
   "execution_count": null,
   "metadata": {},
   "outputs": [],
   "source": []
  }
 ],
 "metadata": {
  "kernelspec": {
   "display_name": "Python 3",
   "language": "python",
   "name": "python3"
  },
  "language_info": {
   "codemirror_mode": {
    "name": "ipython",
    "version": 3
   },
   "file_extension": ".py",
   "mimetype": "text/x-python",
   "name": "python",
   "nbconvert_exporter": "python",
   "pygments_lexer": "ipython3",
   "version": "3.7.3"
  },
  "toc-autonumbering": false,
  "toc-showcode": false,
  "toc-showmarkdowntxt": false,
  "toc-showtags": false
 },
 "nbformat": 4,
 "nbformat_minor": 2
}
